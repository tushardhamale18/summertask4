{
 "cells": [
  {
   "cell_type": "code",
   "execution_count": 44,
   "id": "95880e92",
   "metadata": {},
   "outputs": [],
   "source": [
    "#imoporting modules\n",
    "import cv2 \n",
    "import numpy as np"
   ]
  },
  {
   "cell_type": "code",
   "execution_count": 45,
   "id": "be81e510",
   "metadata": {},
   "outputs": [],
   "source": [
    "#cropping 1st image\n",
    "photo3=cv2.imread(\"rrr.jpg\")\n",
    "cv2.imshow(\"pho.jpg\", photo3)\n",
    "cv2.waitKey(0)\n",
    "cv2.destroyAllWindows()"
   ]
  },
  {
   "cell_type": "code",
   "execution_count": 46,
   "id": "0cb7098b",
   "metadata": {},
   "outputs": [],
   "source": [
    "#reseizing image\n",
    "photo4 = cv2.resize(photo1, (800, 840))"
   ]
  },
  {
   "cell_type": "code",
   "execution_count": 47,
   "id": "47a2e7da",
   "metadata": {},
   "outputs": [],
   "source": [
    "#cropping 1st image\n",
    "crop2 =photo4[0:600,  50:700]\n",
    "cv2.imshow(\"pho6.jpg\", crop2)\n",
    "cv2.waitKey(0)\n",
    "cv2.destroyAllWindows()"
   ]
  },
  {
   "cell_type": "code",
   "execution_count": 48,
   "id": "4bb95dc2",
   "metadata": {},
   "outputs": [],
   "source": [
    "#cropping 2nd image\n",
    "photo5=cv2.imread(\"rock.jpg\")\n",
    "cv2.imshow(\"phoo.jpg\", photo5)\n",
    "cv2.waitKey(0)\n",
    "cv2.destroyAllWindows()"
   ]
  },
  {
   "cell_type": "code",
   "execution_count": 49,
   "id": "55d41d73",
   "metadata": {},
   "outputs": [],
   "source": [
    "#cropping 2nd image\n",
    "crop=photo5[0:600,  380:800]\n",
    "cv2.imshow(\"pho5.jpg\", crop)\n",
    "cv2.waitKey(0)\n",
    "cv2.destroyAllWindows()"
   ]
  },
  {
   "cell_type": "code",
   "execution_count": 50,
   "id": "665762a6",
   "metadata": {},
   "outputs": [],
   "source": [
    "pic=np.hstack([crop,crop2])\n",
    "cv2.imshow(\"collage.jpg\", pic)\n",
    "cv2.waitKey(0)\n",
    "cv2.destroyAllWindows()"
   ]
  },
  {
   "cell_type": "code",
   "execution_count": null,
   "id": "663866d5",
   "metadata": {},
   "outputs": [],
   "source": []
  }
 ],
 "metadata": {
  "kernelspec": {
   "display_name": "Python 3",
   "language": "python",
   "name": "python3"
  },
  "language_info": {
   "codemirror_mode": {
    "name": "ipython",
    "version": 3
   },
   "file_extension": ".py",
   "mimetype": "text/x-python",
   "name": "python",
   "nbconvert_exporter": "python",
   "pygments_lexer": "ipython3",
   "version": "3.8.8"
  }
 },
 "nbformat": 4,
 "nbformat_minor": 5
}

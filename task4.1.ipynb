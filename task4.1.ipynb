{
 "cells": [
  {
   "cell_type": "code",
   "execution_count": 26,
   "id": "e1a0602f",
   "metadata": {},
   "outputs": [],
   "source": [
    "#imoporting modules\n",
    "import cv2 \n",
    "import numpy as np"
   ]
  },
  {
   "cell_type": "code",
   "execution_count": 27,
   "id": "3beceb9f",
   "metadata": {},
   "outputs": [],
   "source": [
    "#defining eclipse\n",
    "W = 400\n",
    "H= 400\n",
    "def my_ellipse(img, angle):\n",
    "    thickness = 2\n",
    "    line_type = 8\n",
    "    t1=cv2.ellipse(img,(W // 2, W // 2),(W // 4, W // 16),90,0,360,(255, 0, 0),thickness,line_type)\n",
    "    t2=cv2.ellipse(img,(W // 2, W // 2),(W // 4, W // 16),0,0,360,(0, 255, 0),thickness,line_type)\n",
    "    t3=cv2.ellipse(img,(W // 2, W // 2),(W // 4, W // 16),45,0,360,(0, 0, 255),thickness,line_type)\n",
    "    t4=cv2.ellipse(img,(W // 2, W // 2),(W // 4, W // 16),-45,0,360,(255, 0, 165),thickness,line_type)"
   ]
  },
  {
   "cell_type": "code",
   "execution_count": 28,
   "id": "0c9c6dfa",
   "metadata": {},
   "outputs": [],
   "source": [
    "#defining circle\n",
    "def my_filled_circle(img, center):\n",
    "    thickness = -1\n",
    "    line_type = 8\n",
    "    cv2.circle(img,center,W // 32,(0, 0, 255),thickness,line_type)\n",
    "    "
   ]
  },
  {
   "cell_type": "code",
   "execution_count": 29,
   "id": "b379e400",
   "metadata": {},
   "outputs": [],
   "source": [
    "#cretaing atom\n",
    "size = W, H, 3\n",
    "IMG = np.zeros(size, dtype=np.uint8)\n",
    "my_ellipse(IMG, 90)\n",
    "my_ellipse(IMG, 0)\n",
    "my_ellipse(IMG, 45)\n",
    "my_ellipse(IMG, -45)\n",
    "my_filled_circle(IMG, (W // 2, W // 2))"
   ]
  },
  {
   "cell_type": "code",
   "execution_count": 30,
   "id": "0ff430af",
   "metadata": {},
   "outputs": [],
   "source": [
    "#displaying atom\n",
    "cv2.imshow(\"atom.jpg\", IMG)\n",
    "cv2.waitKey(0)\n",
    "cv2.destroyAllWindows()"
   ]
  },
  {
   "cell_type": "code",
   "execution_count": null,
   "id": "ee776f09",
   "metadata": {},
   "outputs": [],
   "source": []
  }
 ],
 "metadata": {
  "kernelspec": {
   "display_name": "Python 3",
   "language": "python",
   "name": "python3"
  },
  "language_info": {
   "codemirror_mode": {
    "name": "ipython",
    "version": 3
   },
   "file_extension": ".py",
   "mimetype": "text/x-python",
   "name": "python",
   "nbconvert_exporter": "python",
   "pygments_lexer": "ipython3",
   "version": "3.8.8"
  }
 },
 "nbformat": 4,
 "nbformat_minor": 5
}

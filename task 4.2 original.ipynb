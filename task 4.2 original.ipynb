{
 "cells": [
  {
   "cell_type": "code",
   "execution_count": 36,
   "id": "4369a2f3",
   "metadata": {},
   "outputs": [],
   "source": [
    "#imoporting modules\n",
    "import cv2 \n",
    "import numpy as np"
   ]
  },
  {
   "cell_type": "code",
   "execution_count": 37,
   "id": "8d810d2a",
   "metadata": {},
   "outputs": [],
   "source": [
    "#reading first image\n",
    "photo1=cv2.imread(\"rock.jpg\")\n",
    "cv2.imshow(\"pho.jpg\", photo1)\n",
    "cv2.waitKey(0)\n",
    "cv2.destroyAllWindows()"
   ]
  },
  {
   "cell_type": "code",
   "execution_count": 38,
   "id": "cf947e8f",
   "metadata": {},
   "outputs": [],
   "source": [
    "#reading second image\n",
    "photo2=cv2.imread(\"bill.jpg\")\n",
    "cv2.imshow(\"pho.jpg\", photo2)\n",
    "cv2.waitKey(0)\n",
    "cv2.destroyAllWindows()"
   ]
  },
  {
   "cell_type": "code",
   "execution_count": 39,
   "id": "087032fa",
   "metadata": {},
   "outputs": [],
   "source": [
    "#reseizing image\n",
    "photo2 = cv2.resize(photo2, (600, 600))\n",
    "photo1 = cv2.resize(photo1, (600, 600))"
   ]
  },
  {
   "cell_type": "code",
   "execution_count": 40,
   "id": "51656827",
   "metadata": {},
   "outputs": [],
   "source": [
    "#cropping 2nd image\n",
    "crop=photo2[0:600,  120:800]\n",
    "cv2.imshow(\"pho5.jpg\", crop)\n",
    "cv2.waitKey(0)\n",
    "cv2.destroyAllWindows()\n"
   ]
  },
  {
   "cell_type": "code",
   "execution_count": 41,
   "id": "50b7872a",
   "metadata": {},
   "outputs": [],
   "source": [
    "#swapping\n",
    "photo1[20:420,130:530],photo2[20:420,130:530]=photo2[20:420,130:530],photo1[20:420,130:530]"
   ]
  },
  {
   "cell_type": "code",
   "execution_count": 42,
   "id": "e1dc4284",
   "metadata": {},
   "outputs": [],
   "source": [
    "#displaying image\n",
    "cv2.imshow(\"pho.jpg\", photo1)\n",
    "cv2.waitKey(0)\n",
    "cv2.destroyAllWindows()"
   ]
  },
  {
   "cell_type": "code",
   "execution_count": null,
   "id": "61992c5d",
   "metadata": {},
   "outputs": [],
   "source": []
  }
 ],
 "metadata": {
  "kernelspec": {
   "display_name": "Python 3",
   "language": "python",
   "name": "python3"
  },
  "language_info": {
   "codemirror_mode": {
    "name": "ipython",
    "version": 3
   },
   "file_extension": ".py",
   "mimetype": "text/x-python",
   "name": "python",
   "nbconvert_exporter": "python",
   "pygments_lexer": "ipython3",
   "version": "3.8.8"
  }
 },
 "nbformat": 4,
 "nbformat_minor": 5
}
